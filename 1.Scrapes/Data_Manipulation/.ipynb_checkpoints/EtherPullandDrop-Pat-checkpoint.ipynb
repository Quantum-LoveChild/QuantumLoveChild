{
 "cells": [
  {
   "cell_type": "code",
   "execution_count": 2,
   "metadata": {},
   "outputs": [
    {
     "ename": "ImportError",
     "evalue": "No module named 'mysql'",
     "output_type": "error",
     "traceback": [
      "\u001b[1;31m---------------------------------------------------------------------------\u001b[0m",
      "\u001b[1;31mImportError\u001b[0m                               Traceback (most recent call last)",
      "\u001b[1;32m<ipython-input-2-03dbb34926ea>\u001b[0m in \u001b[0;36m<module>\u001b[1;34m()\u001b[0m\n\u001b[0;32m      5\u001b[0m \u001b[1;32mimport\u001b[0m \u001b[0mrequests\u001b[0m\u001b[1;33m,\u001b[0m \u001b[0mdatetime\u001b[0m\u001b[1;33m,\u001b[0m \u001b[0mre\u001b[0m\u001b[1;33m\u001b[0m\u001b[0m\n\u001b[0;32m      6\u001b[0m \u001b[1;32mfrom\u001b[0m \u001b[0mbs4\u001b[0m \u001b[1;32mimport\u001b[0m \u001b[0mBeautifulSoup\u001b[0m\u001b[1;33m\u001b[0m\u001b[0m\n\u001b[1;32m----> 7\u001b[1;33m \u001b[1;32mimport\u001b[0m \u001b[0mmysql\u001b[0m\u001b[1;33m.\u001b[0m\u001b[0mconnector\u001b[0m\u001b[1;33m\u001b[0m\u001b[0m\n\u001b[0m\u001b[0;32m      8\u001b[0m \u001b[1;32mfrom\u001b[0m \u001b[0msqlalchemy\u001b[0m \u001b[1;32mimport\u001b[0m \u001b[0mcreate_engine\u001b[0m\u001b[1;33m\u001b[0m\u001b[0m\n\u001b[0;32m      9\u001b[0m \u001b[1;32mimport\u001b[0m \u001b[0msqlalchemy\u001b[0m\u001b[1;33m\u001b[0m\u001b[0m\n",
      "\u001b[1;31mImportError\u001b[0m: No module named 'mysql'"
     ]
    }
   ],
   "source": [
    "import pandas as pd\n",
    "import time\n",
    "import conn_creds as cc\n",
    "import numpy as np\n",
    "import requests, datetime, re\n",
    "from bs4 import BeautifulSoup\n",
    "import mysql.connector\n",
    "from sqlalchemy import create_engine\n",
    "import sqlalchemy\n",
    "pd.options.mode.chained_assignment = None\n",
    "\n",
    "# establish MySQL engine with credentials\n",
    "db_name = 'crypto'\n",
    "engine = create_engine('mysql+mysqlconnector://'+cc.db_username+':'+cc.db_pass+'@'+cc.db_host+':'+cc.db_port+'/'+db_name, echo=False)"
   ]
  },
  {
   "cell_type": "code",
   "execution_count": 2,
   "metadata": {},
   "outputs": [],
   "source": [
    "## Function for cleaning up df before MySQL push\n",
    "\n",
    "def cmc_df_cleanup(df):\n",
    "    # convert all random characters in string varaibles into nan\n",
    "    df = df[['coin_name','date_hist','open_price','close_price','high_price','low_price','market_cap','volume']]\n",
    "    df[['open_price','close_price','high_price','low_price','market_cap','volume']] = (\n",
    "    df[['open_price','close_price','high_price','low_price','market_cap','volume']].apply(lambda x: x.str.replace(',','')))\n",
    "    df[['open_price','close_price','high_price','low_price','market_cap','volume']] = (\n",
    "    df[['open_price','close_price','high_price','low_price','market_cap','volume']].apply(lambda x: x.replace('-|^\\s*$',np.nan,regex=True)))\n",
    "    #convert to datetime\n",
    "    df['date_hist'] = pd.to_datetime(df['date_hist'])\n",
    "    return df\n",
    "\n",
    "## Function for updating missing historical data in CMC\n",
    "\n",
    "def pull_cmc(coin,start_date):\n",
    "    try:\n",
    "        final_coin_data = pd.DataFrame()\n",
    "        url = 'https://coinmarketcap.com/currencies/' + coin + '/historical-data/?start=' + start_date.replace('-','') + \"&end=\" + str(datetime.datetime.now())[:10].replace('-','')\n",
    "\n",
    "        r = requests.get(url)\n",
    "\n",
    "        soup = BeautifulSoup(r.text, 'lxml')\n",
    "        table = soup.find('table')\n",
    "\n",
    "        headers = {'coin_name': [np.nan], 'date_hist': [np.nan], 'open_price': [np.nan], 'high_price': [np.nan], 'low_price': [np.nan], 'close_price': [np.nan], 'volume': [np.nan], 'market_cap': [np.nan]}\n",
    "        coin_data = pd.DataFrame(headers)\n",
    "\n",
    "        for row in table.find_all('tr')[1:]:\n",
    "            col = row.find_all('td')\n",
    "\n",
    "            coin_name = coin\n",
    "            date = col[0].text.strip()\n",
    "            open_price = col[1].text.strip()\n",
    "            high_price = col[2].text.strip()\n",
    "            low_price = col[3].text.strip()\n",
    "            close_price = col[4].text.strip()\n",
    "            volume = col[5].text.strip()\n",
    "            market_cap = col[6].text.strip()\n",
    "\n",
    "            temp_df = {'coin_name':coin_name,'date_hist': date, 'open_price': open_price, 'high_price': high_price, 'low_price': low_price, 'close_price': close_price, 'volume': volume, 'market_cap': market_cap}\n",
    "            coin_data = coin_data.append(temp_df, ignore_index=True)\n",
    "\n",
    "        coin_data = coin_data.drop(0)\n",
    "        final_coin_data = final_coin_data.append(coin_data)\n",
    "        print(str(count) + '. ' + str(coin) + '...done')\n",
    "        return final_coin_data\n",
    "    except:\n",
    "        print(str(count)+ '. missing '+ str(coin))"
   ]
  },
  {
   "cell_type": "code",
   "execution_count": null,
   "metadata": {},
   "outputs": [
    {
     "name": "stdout",
     "output_type": "stream",
     "text": [
      "1. bitcoin...done\n"
     ]
    }
   ],
   "source": [
    "### Initial pull: use this to build a database in MySQL to pull all CoinMarketCap (CMC) data.\n",
    "## Step 1 of 2: Build pandas dataframe of historical coin data.\n",
    "\n",
    "#build list of each coin\n",
    "url = 'https://coinmarketcap.com/all/views/all/'\n",
    "r = requests.get(url)\n",
    "soup = BeautifulSoup(r.content, 'html5lib')\n",
    "names=soup.find_all(\"a\",{\"class\":\"currency-name-container\"})\n",
    "names_strings = [str(i) for i in names]\n",
    "\n",
    "## pull name from each string in a list\n",
    "names_list =[]\n",
    "for x in names_strings:\n",
    "    names_list.append(re.split('/\"|currencies/',x)[-2])\n",
    "\n",
    "#scrape each coin\n",
    "final_coin_data = pd.DataFrame()\n",
    "count = 0\n",
    "missing_coins = []\n",
    "\n",
    "for item in names_list:\n",
    "    count += 1\n",
    "    try:\n",
    "        url = 'https://coinmarketcap.com/currencies/' + item + '/historical-data/?start=20100101&end=' + str(datetime.datetime.now())[:10].replace('-','')\n",
    "        r = requests.get(url)\n",
    "\n",
    "        soup = BeautifulSoup(r.text, 'lxml')\n",
    "        table = soup.find('table')\n",
    "\n",
    "        headers = {'coin_name': [np.nan], 'date_hist': [np.nan], 'open_price': [np.nan], 'high_price': [np.nan], 'low_price': [np.nan], 'close_price': [np.nan], 'volume': [np.nan], 'market_cap': [np.nan]}\n",
    "        coin_data = pd.DataFrame(headers)\n",
    "\n",
    "        for row in table.find_all('tr')[1:]:\n",
    "            col = row.find_all('td')\n",
    "\n",
    "            coin_name = item\n",
    "            date = col[0].text.strip()\n",
    "            open_price = col[1].text.strip()\n",
    "            high_price = col[2].text.strip()\n",
    "            low_price = col[3].text.strip()\n",
    "            close_price = col[4].text.strip()\n",
    "            volume = col[5].text.strip()\n",
    "            market_cap = col[6].text.strip()\n",
    "\n",
    "            temp_df = {'coin_name':coin_name,'date_hist': date, 'open_price': open_price, 'high_price': high_price, 'low_price': low_price, 'close_price': close_price, 'volume': volume, 'market_cap': market_cap}\n",
    "            coin_data = coin_data.append(temp_df, ignore_index=True)\n",
    "\n",
    "        coin_data = coin_data.drop(0)\n",
    "        final_coin_data = final_coin_data.append(coin_data)\n",
    "        print(str(count) + '. ' + str(item) + '...done')\n",
    "    except:\n",
    "        missing_coins.append(item)\n",
    "        print(str(count)+ '. missing '+ str(item))\n",
    "        \n",
    "final_coin_data = cmc_df_cleanup(final_coin_data)\n",
    "final_coin_data.reset_index(drop=True,inplace=True)"
   ]
  },
  {
   "cell_type": "code",
   "execution_count": null,
   "metadata": {},
   "outputs": [],
   "source": [
    "##Step 2 of 2, load data into MySQL\n",
    "\n",
    "%%time\n",
    "#define datatypes from scrape\n",
    "dtypes = {'coin_name':sqlalchemy.types.NVARCHAR(length=100),'date_hist':sqlalchemy.types.Date,'open_price':sqlalchemy.types.Float(asdecimal=True),'close_price':sqlalchemy.types.Float(asdecimal=True),\n",
    "          'high_price':sqlalchemy.types.Float(asdecimal=True),'low_price':sqlalchemy.types.Float(asdecimal=True),'market_cap':sqlalchemy.types.BIGINT,'volume':sqlalchemy.types.BIGINT}\n",
    "\n",
    "# Load data to MySQL\n",
    "final_coin_data.to_sql(name='historical_crypto', con=engine, if_exists = 'replace', index=False, chunksize=10000 , dtype=dtypes)"
   ]
  },
  {
   "cell_type": "code",
   "execution_count": null,
   "metadata": {},
   "outputs": [],
   "source": [
    "### Generate volatility metrics and create new analytics table in MySQL\n",
    "## FYI, I dont think this calculation is correct. I am getting a lot of nulls\n",
    "\n",
    "analysis_historical =final_coin_data[['coin_name','date_hist','open_price','close_price']]\n",
    "\n",
    "analysis_historical['Volitility_30_day'] = analysis_historical.groupby('coin_name')['close_price'].rolling(window=30).std().reset_index(drop=True)\n",
    "analysis_historical['Volitility_90_day'] = analysis_historical.groupby('coin_name')['close_price'].rolling(window=90).std().reset_index(drop=True)\n",
    "analysis_historical['Volitility_365_day'] = analysis_historical.groupby('coin_name')['close_price'].rolling(window=365).std().reset_index(drop=True) \n",
    "\n",
    "## fyi, normally annual volitility is 255 instead of 365 since there are only 255 trading days in a year, but since crypto is all 365 then I leave at 365\n",
    "\n",
    "## Push to MySQL\n",
    "analysis_historical.to_sql(name='analysis_historical', con=engine, if_exists = 'replace', index=False, chunksize=10000)"
   ]
  },
  {
   "cell_type": "code",
   "execution_count": null,
   "metadata": {},
   "outputs": [],
   "source": []
  },
  {
   "cell_type": "code",
   "execution_count": null,
   "metadata": {},
   "outputs": [],
   "source": []
  },
  {
   "cell_type": "code",
   "execution_count": null,
   "metadata": {},
   "outputs": [],
   "source": []
  },
  {
   "cell_type": "code",
   "execution_count": null,
   "metadata": {},
   "outputs": [],
   "source": []
  },
  {
   "cell_type": "code",
   "execution_count": null,
   "metadata": {},
   "outputs": [],
   "source": []
  },
  {
   "cell_type": "code",
   "execution_count": null,
   "metadata": {},
   "outputs": [],
   "source": []
  },
  {
   "cell_type": "code",
   "execution_count": null,
   "metadata": {},
   "outputs": [],
   "source": []
  },
  {
   "cell_type": "code",
   "execution_count": null,
   "metadata": {},
   "outputs": [],
   "source": []
  },
  {
   "cell_type": "code",
   "execution_count": null,
   "metadata": {},
   "outputs": [],
   "source": []
  },
  {
   "cell_type": "code",
   "execution_count": null,
   "metadata": {},
   "outputs": [],
   "source": []
  },
  {
   "cell_type": "code",
   "execution_count": null,
   "metadata": {},
   "outputs": [],
   "source": []
  },
  {
   "cell_type": "code",
   "execution_count": null,
   "metadata": {},
   "outputs": [],
   "source": []
  },
  {
   "cell_type": "code",
   "execution_count": null,
   "metadata": {},
   "outputs": [],
   "source": []
  },
  {
   "cell_type": "code",
   "execution_count": null,
   "metadata": {},
   "outputs": [],
   "source": []
  },
  {
   "cell_type": "code",
   "execution_count": null,
   "metadata": {},
   "outputs": [],
   "source": []
  },
  {
   "cell_type": "code",
   "execution_count": null,
   "metadata": {},
   "outputs": [],
   "source": []
  },
  {
   "cell_type": "code",
   "execution_count": null,
   "metadata": {},
   "outputs": [],
   "source": []
  },
  {
   "cell_type": "code",
   "execution_count": null,
   "metadata": {},
   "outputs": [],
   "source": []
  },
  {
   "cell_type": "code",
   "execution_count": null,
   "metadata": {},
   "outputs": [],
   "source": []
  },
  {
   "cell_type": "code",
   "execution_count": null,
   "metadata": {},
   "outputs": [],
   "source": []
  },
  {
   "cell_type": "code",
   "execution_count": null,
   "metadata": {},
   "outputs": [],
   "source": []
  },
  {
   "cell_type": "code",
   "execution_count": null,
   "metadata": {},
   "outputs": [],
   "source": []
  },
  {
   "cell_type": "code",
   "execution_count": null,
   "metadata": {},
   "outputs": [],
   "source": []
  },
  {
   "cell_type": "code",
   "execution_count": null,
   "metadata": {},
   "outputs": [],
   "source": []
  },
  {
   "cell_type": "code",
   "execution_count": null,
   "metadata": {},
   "outputs": [],
   "source": []
  },
  {
   "cell_type": "code",
   "execution_count": null,
   "metadata": {},
   "outputs": [],
   "source": []
  },
  {
   "cell_type": "code",
   "execution_count": null,
   "metadata": {},
   "outputs": [],
   "source": [
    "\n"
   ]
  },
  {
   "cell_type": "code",
   "execution_count": null,
   "metadata": {},
   "outputs": [],
   "source": []
  },
  {
   "cell_type": "code",
   "execution_count": null,
   "metadata": {},
   "outputs": [],
   "source": []
  }
 ],
 "metadata": {
  "kernelspec": {
   "display_name": "Python 3",
   "language": "python",
   "name": "python3"
  },
  "language_info": {
   "codemirror_mode": {
    "name": "ipython",
    "version": 3
   },
   "file_extension": ".py",
   "mimetype": "text/x-python",
   "name": "python",
   "nbconvert_exporter": "python",
   "pygments_lexer": "ipython3",
   "version": "3.5.2"
  }
 },
 "nbformat": 4,
 "nbformat_minor": 2
}
